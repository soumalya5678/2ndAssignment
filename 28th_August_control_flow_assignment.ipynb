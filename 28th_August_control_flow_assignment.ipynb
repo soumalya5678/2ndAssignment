{
 "cells": [
  {
   "cell_type": "code",
   "execution_count": 1,
   "id": "a8bb2d9b-c4b0-4977-9a1f-a806ef193494",
   "metadata": {},
   "outputs": [
    {
     "name": "stdout",
     "output_type": "stream",
     "text": [
      "positive number\n"
     ]
    }
   ],
   "source": [
    "x=10\n",
    "if x>0:\n",
    "    print(\"positive number\")\n",
    "else:\n",
    "    print(\"negative number\")"
   ]
  },
  {
   "cell_type": "code",
   "execution_count": 2,
   "id": "42193cba-63f1-4fc9-a66c-4c3107ad0b90",
   "metadata": {},
   "outputs": [
    {
     "name": "stdout",
     "output_type": "stream",
     "text": [
      "eligible for vote\n"
     ]
    }
   ],
   "source": [
    "age=20\n",
    "if age>18:\n",
    "    print(\"eligible for vote\")\n",
    "else:\n",
    "    print(\"not eligible for vote\")"
   ]
  },
  {
   "cell_type": "code",
   "execution_count": 3,
   "id": "1b965adb-e1e7-4c99-beea-64ef6e8e813c",
   "metadata": {},
   "outputs": [
    {
     "name": "stdout",
     "output_type": "stream",
     "text": [
      "b is greater than a\n"
     ]
    }
   ],
   "source": [
    "a=10\n",
    "b=20\n",
    "if a>b:\n",
    "    print(\"a is greater than b\")\n",
    "else:\n",
    "    print(\"b is greater than a\")"
   ]
  },
  {
   "cell_type": "code",
   "execution_count": 5,
   "id": "e06d715e-c114-40e8-b3c1-25affd5caa68",
   "metadata": {},
   "outputs": [
    {
     "name": "stdout",
     "output_type": "stream",
     "text": [
      "year is leap year\n"
     ]
    }
   ],
   "source": [
    "year=2016\n",
    "if(year%4==0 or year%400==0):\n",
    "    print(\"year is leap year\")\n",
    "else:\n",
    "    print(\"year is not leap year\")"
   ]
  },
  {
   "cell_type": "code",
   "execution_count": 6,
   "id": "70706fbe-e3b6-4a04-be31-c70e42c33575",
   "metadata": {},
   "outputs": [
    {
     "name": "stdout",
     "output_type": "stream",
     "text": [
      "consonent\n"
     ]
    }
   ],
   "source": [
    "letter='f'\n",
    "if(letter=='a' or letter=='e' or letter=='i' or letter=='o' or letter=='u' or letter=='A' or letter=='E' or letter=='I' or letter=='O' or letter=='U'):\n",
    "    print('vowel')\n",
    "else:\n",
    "    print('consonent')"
   ]
  },
  {
   "cell_type": "code",
   "execution_count": 7,
   "id": "a09379ba-509a-45c1-920a-cbcbf5230ee3",
   "metadata": {},
   "outputs": [
    {
     "name": "stdout",
     "output_type": "stream",
     "text": [
      "even number\n"
     ]
    }
   ],
   "source": [
    "a=34\n",
    "if(a%2==0):\n",
    "    print(\"even number\")\n",
    "else:\n",
    "    print(\"odd number\")"
   ]
  },
  {
   "cell_type": "code",
   "execution_count": 9,
   "id": "c34ac004-0d72-46a8-84a9-4eb8d9879f4f",
   "metadata": {},
   "outputs": [
    {
     "name": "stdout",
     "output_type": "stream",
     "text": [
      "10\n"
     ]
    }
   ],
   "source": [
    "a=-10\n",
    "if(a>0):\n",
    "    print(a)\n",
    "else:\n",
    "    print(-a)"
   ]
  },
  {
   "cell_type": "code",
   "execution_count": 14,
   "id": "f0631c15-6dc1-4015-869b-317fce8a0540",
   "metadata": {},
   "outputs": [
    {
     "name": "stdout",
     "output_type": "stream",
     "text": [
      "c is largest\n"
     ]
    }
   ],
   "source": [
    "a=10\n",
    "b=20\n",
    "c=30\n",
    "if(a>b and a>c):\n",
    "    print(\"a is largest\")\n",
    "elif(b>c and b>a):\n",
    "    print(\"b is largest\")\n",
    "else:\n",
    "    print(\"c is largest\")"
   ]
  },
  {
   "cell_type": "code",
   "execution_count": 11,
   "id": "a48d9b00-91e2-4723-99a5-5745dad559ac",
   "metadata": {},
   "outputs": [
    {
     "name": "stdout",
     "output_type": "stream",
     "text": [
      "palindrome\n"
     ]
    }
   ],
   "source": [
    "str1=\"madam\"\n",
    "str2=str1[::-1]\n",
    "if(str1==str2):\n",
    "    print(\"palindrome\")\n",
    "else:\n",
    "    print(\"not palindrome\")"
   ]
  },
  {
   "cell_type": "code",
   "execution_count": 12,
   "id": "291fa1a8-aedd-41f0-b401-a0d37fc3eb0f",
   "metadata": {},
   "outputs": [
    {
     "name": "stdout",
     "output_type": "stream",
     "text": [
      "pass\n"
     ]
    }
   ],
   "source": [
    "score=50\n",
    "if(score>34):\n",
    "    print(\"pass\")\n",
    "else:\n",
    "    print(\"fail\")"
   ]
  },
  {
   "cell_type": "code",
   "execution_count": 13,
   "id": "673e4f12-e519-4c91-b392-88b185c99f83",
   "metadata": {},
   "outputs": [
    {
     "name": "stdout",
     "output_type": "stream",
     "text": [
      "c is largest\n"
     ]
    }
   ],
   "source": [
    "a=10\n",
    "b=20\n",
    "c=30\n",
    "if(a>b):\n",
    "    if(a>c):\n",
    "        print(\"a is largest\")\n",
    "    else:\n",
    "        print(\"c is largest\")\n",
    "elif(b>c):\n",
    "    print(\"b is largest\")\n",
    "else:\n",
    "    print(\"c is largest\")"
   ]
  },
  {
   "cell_type": "code",
   "execution_count": null,
   "id": "5ae40666-b538-4068-b4fc-46142bab52ff",
   "metadata": {},
   "outputs": [],
   "source": []
  },
  {
   "cell_type": "code",
   "execution_count": 3,
   "id": "5bd9e42b-b857-46a8-ade8-6768e2397a57",
   "metadata": {},
   "outputs": [
    {
     "name": "stdout",
     "output_type": "stream",
     "text": [
      "leap year but not century year\n"
     ]
    }
   ],
   "source": [
    "year=2020\n",
    "if(year%4==0 or year%400==0):\n",
    "    if(year%100==0):\n",
    "        print(\"leap year and century year\")\n",
    "    else:\n",
    "        print(\"leap year but not century year\")\n",
    "else:\n",
    "    print(\"not leap year\")"
   ]
  },
  {
   "cell_type": "code",
   "execution_count": 7,
   "id": "b73d19ac-5686-49f4-8978-6e5c3ab3bb27",
   "metadata": {},
   "outputs": [
    {
     "name": "stdout",
     "output_type": "stream",
     "text": [
      "negative number\n"
     ]
    }
   ],
   "source": [
    "num=-7\n",
    "if(num>=0):\n",
    "    if(num>0):\n",
    "        print(\"positive number\")\n",
    "    else:\n",
    "        print(\"it is zero\")\n",
    "else:\n",
    "    print(\"negative number\")"
   ]
  },
  {
   "cell_type": "code",
   "execution_count": 9,
   "id": "0b7b339f-bd5e-49fa-bfc2-1963d8b10c57",
   "metadata": {},
   "outputs": [
    {
     "name": "stdout",
     "output_type": "stream",
     "text": [
      "adult\n"
     ]
    }
   ],
   "source": [
    "age=30\n",
    "if(age>=13):\n",
    "    if(age<=19):\n",
    "        print(\"teenager\")\n",
    "    else:\n",
    "        print(\"adult\")\n",
    "else:\n",
    "    print(\"child\")"
   ]
  },
  {
   "cell_type": "code",
   "execution_count": 10,
   "id": "1548e944-ae73-4317-a097-48eba69c5177",
   "metadata": {},
   "outputs": [
    {
     "name": "stdout",
     "output_type": "stream",
     "text": [
      "right angle\n"
     ]
    }
   ],
   "source": [
    "angle=90\n",
    "if(angle>=90):\n",
    "    if(angle==90):\n",
    "        print(\"right angle\")\n",
    "    else:\n",
    "        print(\"obtuse angle\")\n",
    "else:\n",
    "    print(\"acute angle\")"
   ]
  },
  {
   "cell_type": "code",
   "execution_count": 12,
   "id": "43fdcde3-19bd-42a2-8467-c3aeabd98279",
   "metadata": {},
   "outputs": [
    {
     "name": "stdout",
     "output_type": "stream",
     "text": [
      "real and different roots\n",
      "2.0\n",
      "-12.0\n"
     ]
    }
   ],
   "source": [
    "import math\n",
    "a=1\n",
    "b=10\n",
    "c=-24\n",
    "dis=b*b-4*a*c\n",
    "sqrt_val=math.sqrt(abs(dis))\n",
    "if(dis>=0):\n",
    "    if(dis==0):\n",
    "        print(\"real and same roots\")\n",
    "        print(-b/(2*a))\n",
    "    else:\n",
    "        print(\"real and different roots\")\n",
    "        print((-b+sqrt_val)/(2*a))\n",
    "        print((-b-sqrt_val)/(2*a))\n",
    "else:\n",
    "    print(\"complex roots\")\n",
    "    print(-b/(2*a), + i, sqrt_val)\n",
    "    print(-b/(2*a), -  i, sqrt_val)\n",
    "    "
   ]
  },
  {
   "cell_type": "code",
   "execution_count": 22,
   "id": "e3238adb-5057-4c62-8f52-95ba00386bee",
   "metadata": {},
   "outputs": [
    {
     "name": "stdin",
     "output_type": "stream",
     "text": [
      "enter the day number: 0\n"
     ]
    },
    {
     "name": "stdout",
     "output_type": "stream",
     "text": [
      "unexpected input\n"
     ]
    }
   ],
   "source": [
    "day=int(input(\"enter the day number:\"))\n",
    "if day>0 and day<=7:\n",
    "    if day==1:\n",
    "            print(\"monday\")\n",
    "    if day==2:\n",
    "            print(\"tuesday\")\n",
    "    if day==3:\n",
    "            print(\"wednesday\")\n",
    "    if day==4:\n",
    "            print(\"thursday\")\n",
    "    if day==5:\n",
    "            print(\"friday\")\n",
    "    if day==6:\n",
    "            print(\"saturday\")\n",
    "    if day==7:\n",
    "            print(\"sunday\")\n",
    "else:\n",
    "    print(\"unexpected input\")"
   ]
  },
  {
   "cell_type": "code",
   "execution_count": 27,
   "id": "3728f765-9814-4060-9ed2-3434f9093f23",
   "metadata": {},
   "outputs": [
    {
     "name": "stdin",
     "output_type": "stream",
     "text": [
      "enter a year: 1999\n"
     ]
    },
    {
     "name": "stdout",
     "output_type": "stream",
     "text": [
      "not leap year\n"
     ]
    }
   ],
   "source": [
    "year=int(input(\"enter a year:\"))\n",
    "if(year%4==0):\n",
    "    if(year%400==0):\n",
    "         print(\"divisible by 400 and leap year\")\n",
    "    else:\n",
    "        print(\"only leap year\")\n",
    "else:\n",
    "    print(\"not leap year\")\n",
    "             \n",
    "             \n",
    "         \n",
    "         \n",
    "    "
   ]
  },
  {
   "cell_type": "code",
   "execution_count": 29,
   "id": "0bd5c339-3777-466b-95ba-b6d94a2a9794",
   "metadata": {},
   "outputs": [
    {
     "name": "stdin",
     "output_type": "stream",
     "text": [
      "enter your marks: 49\n"
     ]
    },
    {
     "name": "stdout",
     "output_type": "stream",
     "text": [
      "grade=D\n"
     ]
    }
   ],
   "source": [
    "marks=int(input(\"enter your marks:\"))\n",
    "if marks>=90 and marks<=100:\n",
    "    print(\"grade=O\")\n",
    "elif marks>=80 and marks<90:\n",
    "    print(\"grade=E\")\n",
    "elif marks>=70 and marks<80:\n",
    "    print(\"grade=A\")\n",
    "elif marks>=60 and marks<70:\n",
    "    print(\"grade=B\")\n",
    "elif marks>=50 and marks<60:\n",
    "    print(\"grade=C\")\n",
    "elif marks>=40 and marks<50:\n",
    "    print(\"grade=D\")\n",
    "elif marks>=0 and marks<40:\n",
    "    print(\"Fail\")\n",
    "else:\n",
    "    print(\"unexpected input\")"
   ]
  },
  {
   "cell_type": "code",
   "execution_count": 30,
   "id": "e8ab89b4-b073-4743-b972-bd04c5d44efc",
   "metadata": {},
   "outputs": [
    {
     "name": "stdin",
     "output_type": "stream",
     "text": [
      "enter an angle value 60\n"
     ]
    },
    {
     "name": "stdout",
     "output_type": "stream",
     "text": [
      "acute angle triangle \n"
     ]
    }
   ],
   "source": [
    "angle=int(input(\"enter an angle value\"))\n",
    "if angle>0 and angle<90:\n",
    "    print(\"acute angle triangle \")\n",
    "elif angle==90:\n",
    "    print(\"right angle triangle\")\n",
    "elif angle>90 and angle<180:\n",
    "    print(\"obtuse angle triangle\")\n",
    "else:\n",
    "    print(\"not a triangle\")"
   ]
  },
  {
   "cell_type": "code",
   "execution_count": 13,
   "id": "1d6dfe58-d3d6-4598-b3e6-57fcb9b596b6",
   "metadata": {},
   "outputs": [
    {
     "name": "stdin",
     "output_type": "stream",
     "text": [
      "enter your weight in kg: 67\n",
      "enter your height in meter 160\n"
     ]
    },
    {
     "name": "stdout",
     "output_type": "stream",
     "text": [
      "underweight\n"
     ]
    }
   ],
   "source": [
    "weight=float(input(\"enter your weight in kg:\"))\n",
    "height=float(input(\"enter your height in meter\"))\n",
    "bmi=weight/(height*height)\n",
    "if bmi<=18.4:\n",
    "    print(\"underweight\")\n",
    "elif bmi>=18.5 and bmi<=24.9:\n",
    "    print(\"normal\")\n",
    "elif bmi>=25.0 and bmi<=39.9:\n",
    "    print(\"overweight\")\n",
    "elif bmi>=40.0:\n",
    "    print(\"obese\")\n",
    "else:\n",
    "    print(\"unexpected input\")"
   ]
  },
  {
   "cell_type": "code",
   "execution_count": 3,
   "id": "899e547f-a277-4277-a5a0-be9763ab11cb",
   "metadata": {},
   "outputs": [
    {
     "name": "stdin",
     "output_type": "stream",
     "text": [
      "enter a number: -7\n"
     ]
    },
    {
     "name": "stdout",
     "output_type": "stream",
     "text": [
      "negative number\n"
     ]
    }
   ],
   "source": [
    "num=int(input(\"enter a number:\"))\n",
    "if num==0:\n",
    "    print(\"zero number\")\n",
    "elif num>0:\n",
    "    print(\"positive number\")\n",
    "else:\n",
    "    print(\"negative number\")"
   ]
  },
  {
   "cell_type": "code",
   "execution_count": 6,
   "id": "a33c430a-d89a-4ecc-b39f-6f3370a2543c",
   "metadata": {},
   "outputs": [
    {
     "name": "stdin",
     "output_type": "stream",
     "text": [
      "enter a character A\n"
     ]
    },
    {
     "name": "stdout",
     "output_type": "stream",
     "text": [
      "upper case character\n"
     ]
    }
   ],
   "source": [
    "char=input(\"enter a character\")\n",
    "if char.isupper()==True:\n",
    "    print(\"upper case character\")\n",
    "elif char.islower==True:\n",
    "    print(\"lower case character\")\n",
    "else:\n",
    "    print(\"special character\")"
   ]
  },
  {
   "cell_type": "code",
   "execution_count": 12,
   "id": "f1392e0d-fb85-4c7f-bcd1-5d4f77d0eca8",
   "metadata": {},
   "outputs": [
    {
     "name": "stdin",
     "output_type": "stream",
     "text": [
      "enter purchase amount: 700\n"
     ]
    },
    {
     "name": "stdout",
     "output_type": "stream",
     "text": [
      "there is no discount\n"
     ]
    }
   ],
   "source": [
    "amount=int(input(\"enter purchase amount:\"))\n",
    "dis_amount=0\n",
    "if amount>=5000:\n",
    "    dis_amount=amount-amount*0.40\n",
    "    print(\"amount after discount is: \", dis_amount)\n",
    "elif amount<5000 and amount>=3000:\n",
    "    dis_amount=amount-amount*0.25\n",
    "    print(\"amount after discount is: \", dis_amount)\n",
    "elif amount<3000 and amount>=1000:\n",
    "    dis_amount=amount-amount*0.10\n",
    "    print(\"amount after discount is: \", dis_amount)\n",
    "else:\n",
    "    print(\"there is no discount\")\n",
    "\n",
    "    "
   ]
  },
  {
   "cell_type": "code",
   "execution_count": 16,
   "id": "63640550-be40-48b8-8492-419b83cdc965",
   "metadata": {},
   "outputs": [
    {
     "name": "stdin",
     "output_type": "stream",
     "text": [
      "enter electic unit: 400\n"
     ]
    },
    {
     "name": "stdout",
     "output_type": "stream",
     "text": [
      "payable amount is:  7000\n"
     ]
    }
   ],
   "source": [
    "unit=int(input(\"enter electic unit:\"))\n",
    "amount=0\n",
    "if unit>0 and unit<=100:\n",
    "    amount=unit*10\n",
    "    print(\"payable amount is: \", amount)\n",
    "elif unit>100 and unit<=200:\n",
    "    amount=(100*10)+((unit-100)*15)\n",
    "    print(\"payable amount is: \",amount)\n",
    "elif unit>200 and unit<=300:\n",
    "    amount=(100*10)+(100*15)+(unit-200)*20\n",
    "    print(\"payable amount is: \",amount)\n",
    "elif unit>300:\n",
    "    amount=(100*10)+(100*15)+(100*20)+(unit-300)*25\n",
    "    print(\"payable amount is: \",amount)\n",
    "else:\n",
    "    print(\"unexpected input\")\n",
    "          "
   ]
  },
  {
   "cell_type": "code",
   "execution_count": 1,
   "id": "e8da3158-b660-4d2e-b9ac-08a8e73e64a2",
   "metadata": {},
   "outputs": [
    {
     "name": "stdin",
     "output_type": "stream",
     "text": [
      "enter the month: January\n"
     ]
    },
    {
     "name": "stdout",
     "output_type": "stream",
     "text": [
      "Winter season\n"
     ]
    }
   ],
   "source": [
    "month=input(\"enter the month:\")\n",
    "if month==\"Decemeber\" or month==\"January\" or month==\"February\":\n",
    "    print(\"Winter season\")\n",
    "elif month==\"March\" or month==\"April\" or month==\"May\":\n",
    "    print(\"Summer season\")\n",
    "elif month==\"June\" or month==\"July\" or month==\"August\" or month==\"September\":\n",
    "    print(\"Rainy season\")\n",
    "elif month==\"October\" or month==\"November\":\n",
    "    print(\"Autumn season\")\n",
    "else:\n",
    "    print(\"unexpected input\")\n",
    "\n",
    "\n",
    "\n"
   ]
  },
  {
   "cell_type": "code",
   "execution_count": 3,
   "id": "1b07b025-d212-41ef-a82e-13de6267e2b7",
   "metadata": {},
   "outputs": [
    {
     "name": "stdin",
     "output_type": "stream",
     "text": [
      "enter a year: 1999\n"
     ]
    },
    {
     "name": "stdout",
     "output_type": "stream",
     "text": [
      "common year\n"
     ]
    }
   ],
   "source": [
    "year=int(input(\"enter a year:\"))\n",
    "if year%4==0:\n",
    "    print(\"leap year\")\n",
    "elif year%400==0:\n",
    "    print(\"leap year\")\n",
    "else:\n",
    "    print(\"common year\")"
   ]
  },
  {
   "cell_type": "code",
   "execution_count": null,
   "id": "7a195496-934e-44f4-964b-8a36df5c4e5b",
   "metadata": {},
   "outputs": [],
   "source": []
  }
 ],
 "metadata": {
  "kernelspec": {
   "display_name": "Python 3 (ipykernel)",
   "language": "python",
   "name": "python3"
  },
  "language_info": {
   "codemirror_mode": {
    "name": "ipython",
    "version": 3
   },
   "file_extension": ".py",
   "mimetype": "text/x-python",
   "name": "python",
   "nbconvert_exporter": "python",
   "pygments_lexer": "ipython3",
   "version": "3.10.8"
  }
 },
 "nbformat": 4,
 "nbformat_minor": 5
}
